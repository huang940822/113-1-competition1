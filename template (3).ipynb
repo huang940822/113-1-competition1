{
 "cells": [
  {
   "cell_type": "markdown",
   "metadata": {},
   "source": [
    "# Read All Dataset CSV"
   ]
  },
  {
   "cell_type": "code",
   "execution_count": 2,
   "metadata": {},
   "outputs": [],
   "source": [
    "import os\n",
    "import pandas as pd\n",
    "import numpy as np\n",
    "from sklearn.model_selection import train_test_split, GridSearchCV\n",
    "from sklearn.metrics import roc_auc_score\n",
    "from sklearn.ensemble import VotingClassifier, RandomForestClassifier, StackingClassifier\n",
    "from sklearn.svm import SVC\n",
    "from sklearn.linear_model import LogisticRegression\n",
    "from sklearn.preprocessing import StandardScaler\n",
    "from sklearn.compose import ColumnTransformer\n",
    "from imblearn.over_sampling import SMOTE\n",
    "from sklearn.preprocessing import OneHotEncoder\n",
    "from sklearn.pipeline import Pipeline\n",
    "import lightgbm as lgb"
   ]
  },
  {
   "cell_type": "code",
   "execution_count": 3,
   "metadata": {},
   "outputs": [],
   "source": [
    "dataset_names = []\n",
    "X_trains = []\n",
    "y_trains = []\n",
    "X_tests = []\n",
    "\n",
    "for folder_name in os.listdir(\"./Competition_data\"):\n",
    "    folder_path = os.path.join(\"./Competition_data\", folder_name)\n",
    "    if os.path.isdir(folder_path):\n",
    "        dataset_names.append(folder_name)\n",
    "        X_trains.append(pd.read_csv(f\"{folder_path}/X_train.csv\", header=0))\n",
    "        y_trains.append(pd.read_csv(f\"{folder_path}/y_train.csv\", header=0))\n",
    "        X_tests.append(pd.read_csv(f\"{folder_path}/X_test.csv\", header=0))\n"
   ]
  },
  {
   "cell_type": "markdown",
   "metadata": {},
   "source": [
    "## Data Preprocessing & Feature Engineering"
   ]
  },
  {
   "cell_type": "code",
   "execution_count": null,
   "metadata": {},
   "outputs": [],
   "source": [
    "def auto_identify_features(X):\n",
    "    numeric_features = []\n",
    "    categorical_features = []\n",
    "    \n",
    "    for col in X.columns:\n",
    "        if X[col].dtype == 'int64' and X[col].nunique() < 10:\n",
    "            categorical_features.append(col)\n",
    "        elif pd.api.types.is_numeric_dtype(X[col]):\n",
    "            numeric_features.append(col)\n",
    "    \n",
    "    return numeric_features, categorical_features\n",
    "\n",
    "X_train_processed = []\n",
    "X_test_processed = []\n",
    "y_train_processed = []\n",
    "\n",
    "for idx, folder_name in enumerate(dataset_names):\n",
    "    X_train = X_trains[idx]\n",
    "    X_test = X_tests[idx]    \n",
    "    y_train = y_trains[idx]\n",
    "\n",
    "    numeric_features, categorical_features = auto_identify_features(X_train)\n",
    "\n",
    "    preprocessor = ColumnTransformer(\n",
    "        transformers=[\n",
    "            ('num', StandardScaler(), numeric_features), \n",
    "            ('cat', OneHotEncoder(handle_unknown='ignore'), categorical_features)\n",
    "        ]\n",
    "    )\n",
    "\n",
    "    X_train_scaled = preprocessor.fit_transform(X_train)\n",
    "    X_test_scaled = preprocessor.transform(X_test)\n",
    "\n",
    "    smote = SMOTE(random_state=42)\n",
    "    X_resampled, y_resampled = smote.fit_resample(X_train_scaled, y_train)\n",
    "\n",
    "    X_train_processed.append(X_resampled)\n",
    "    y_train_processed.append(y_resampled)\n",
    "    X_test_processed.append(X_test_scaled)"
   ]
  },
  {
   "cell_type": "markdown",
   "metadata": {},
   "source": [
    "## train test split & build Model\n",
    "You can select an appropriate model and perform corresponding hyperparameter tuning."
   ]
  },
  {
   "cell_type": "code",
   "execution_count": 5,
   "metadata": {},
   "outputs": [],
   "source": [
    "import lightgbm as lgb\n",
    "from sklearn.model_selection import train_test_split\n",
    "from sklearn.metrics import roc_auc_score\n",
    "import pandas as pd\n",
    "from sklearn.ensemble import VotingClassifier\n",
    "from sklearn.metrics import roc_auc_score\n",
    "import lightgbm as lgb\n",
    "from sklearn.ensemble import RandomForestClassifier\n",
    "from sklearn.svm import SVC\n",
    "from sklearn.linear_model import LogisticRegression"
   ]
  },
  {
   "cell_type": "code",
   "execution_count": null,
   "metadata": {},
   "outputs": [
    {
     "name": "stdout",
     "output_type": "stream",
     "text": [
      "AUC: 0.9994\n",
      "AUC: 0.8608\n",
      "AUC: 1.0000\n",
      "AUC: 0.8373\n",
      "AUC: 0.9898\n",
      "AUC: 1.0000\n",
      "AUC: 0.6531\n",
      "AUC: 0.9253\n",
      "AUC: 1.0000\n",
      "AUC: 1.0000\n",
      "AUC: 1.0000\n",
      "AUC: 1.0000\n",
      "AUC: 0.9824\n",
      "AUC: 0.9994\n",
      "AUC: 0.9593\n",
      "AUC: 0.9667\n",
      "AUC: 0.8373\n",
      "AUC: 1.0000\n",
      "AUC: 0.7983\n",
      "AUC: 0.9494\n",
      "AUC: 0.8747\n",
      "AUC: 0.9779\n",
      "AUC: 0.8733\n",
      "AUC: 0.9943\n",
      "AUC: 0.9269\n",
      "AUC: 0.8746\n",
      "AUC: 0.9659\n",
      "AUC: 1.0000\n",
      "AUC: 0.9530\n",
      "AUC: 0.9979\n",
      "AUC: 0.8532\n",
      "AUC: 0.9976\n",
      "AUC: 0.8875\n",
      "AUC: 0.9984\n",
      "AUC: 0.8178\n",
      "AUC: 0.9820\n",
      "AUC: 0.8594\n",
      "AUC: 0.9940\n",
      "AUC: 0.9228\n",
      "AUC: 0.9971\n",
      "AUC: 0.9605\n",
      "AUC: 1.0000\n",
      "AUC: 1.0000\n",
      "AUC: 0.9850\n",
      "AUC: 0.9860\n",
      "AUC: 0.8566\n",
      "AUC: 0.9798\n",
      "AUC: 0.9071\n",
      "AUC: 0.8608\n"
     ]
    }
   ],
   "source": [
    "from sklearn.ensemble import VotingClassifier\n",
    "from sklearn.metrics import roc_auc_score\n",
    "import lightgbm as lgb\n",
    "from sklearn.ensemble import RandomForestClassifier\n",
    "from sklearn.svm import SVC\n",
    "from sklearn.linear_model import LogisticRegression\n",
    "\n",
    "models = []\n",
    "auc_scores = []\n",
    "\n",
    "for i in range(len(dataset_names)):\n",
    "    tmp_X_train, tmp_X_test, tmp_y_train, tmp_y_test = train_test_split(X_train_processed[i], y_train_processed[i], test_size=0.2, random_state=50)\n",
    "\n",
    "    tmp_y_train = tmp_y_train.to_numpy().ravel()\n",
    "    tmp_y_test = tmp_y_test.to_numpy().ravel()\n",
    "\n",
    "    model_lgb = lgb.LGBMClassifier(n_estimators=100, learning_rate=0.05, max_depth=15, verbose=-1)\n",
    "    model_rf = RandomForestClassifier(n_estimators=100, random_state=42)\n",
    "    model_svc = SVC(probability=True, kernel='linear', random_state=42)\n",
    "    model_lr = LogisticRegression(max_iter=1000, random_state=42)\n",
    "\n",
    "    model_lgb.fit(tmp_X_train, tmp_y_train)\n",
    "    model_rf.fit(tmp_X_train, tmp_y_train)\n",
    "    model_svc.fit(tmp_X_train, tmp_y_train)\n",
    "    model_lr.fit(tmp_X_train, tmp_y_train)\n",
    "\n",
    "    prob_lgb = model_lgb.predict_proba(tmp_X_test)[:, 1]\n",
    "    prob_rf = model_rf.predict_proba(tmp_X_test)[:, 1]\n",
    "    prob_svc = model_svc.predict_proba(tmp_X_test)[:, 1]\n",
    "    prob_lr = model_lr.predict_proba(tmp_X_test)[:, 1]\n",
    "\n",
    "    auc_lgb = roc_auc_score(tmp_y_test, prob_lgb)\n",
    "    auc_rf = roc_auc_score(tmp_y_test, prob_rf)\n",
    "    auc_svc = roc_auc_score(tmp_y_test, prob_svc)\n",
    "    auc_lr = roc_auc_score(tmp_y_test, prob_lr)\n",
    "\n",
    "    weights = [auc_lgb, auc_rf, auc_svc, auc_lr]\n",
    "\n",
    "    voting_clf = VotingClassifier(estimators=[\n",
    "        ('lgb', model_lgb),\n",
    "        ('rf', model_rf),\n",
    "        ('svc', model_svc),\n",
    "        ('lr', model_lr)\n",
    "    ], voting='soft', weights=weights)\n",
    "\n",
    "    voting_clf.fit(tmp_X_train, tmp_y_train)\n",
    "\n",
    "    tmp_y_prob = voting_clf.predict_proba(tmp_X_test)[:, 1]\n",
    "\n",
    "    auc = roc_auc_score(tmp_y_test, tmp_y_prob)\n",
    "\n",
    "    models.append(voting_clf)\n",
    "    auc_scores.append(auc)\n",
    "\n",
    "for score in auc_scores:\n",
    "    print(f\"AUC: {score:.4f}\")\n"
   ]
  },
  {
   "cell_type": "code",
   "execution_count": null,
   "metadata": {},
   "outputs": [
    {
     "name": "stderr",
     "output_type": "stream",
     "text": [
      "/var/folders/0r/s9_2vrjn5qjdcr7gpx6_sd480000gn/T/ipykernel_54732/2260554347.py:17: FutureWarning: \n",
      "\n",
      "Passing `palette` without assigning `hue` is deprecated and will be removed in v0.14.0. Assign the `x` variable to `hue` and set `legend=False` for the same effect.\n",
      "\n",
      "  sns.barplot(x='Model', y='AUC', data=auc_df, palette='Blues_d')\n"
     ]
    },
    {
     "data": {
      "image/png": "[encoded data removed]",
      "text/plain": [
       "<Figure size 1000x600 with 1 Axes>"
      ]
     },
     "metadata": {},
     "output_type": "display_data"
    }
   ],
   "source": [
    "import seaborn as sns\n",
    "import matplotlib.pyplot as plt\n",
    "import pandas as pd\n",
    "\n",
    "model_names = [f'Model {i+1}' for i in range(len(auc_scores))]\n",
    "\n",
    "auc_df = pd.DataFrame({\n",
    "    'Model': model_names,\n",
    "    'AUC': auc_scores\n",
    "})\n",
    "\n",
    "plt.figure(figsize=(10, 6))\n",
    "sns.barplot(x='Model', y='AUC', data=auc_df, hue='Model', palette='Blues_d', legend=False)\n",
    "\n",
    "plt.title('AUC Scores of Voting Classifier Models', fontsize=16)\n",
    "plt.xlabel('Model', fontsize=12)\n",
    "plt.ylabel('AUC Score', fontsize=12)\n",
    "\n",
    "plt.xticks(rotation=45)\n",
    "plt.tight_layout()\n",
    "plt.show()\n"
   ]
  },
  {
   "cell_type": "markdown",
   "metadata": {},
   "source": [
    "## Inference Model"
   ]
  },
  {
   "cell_type": "code",
   "execution_count": 7,
   "metadata": {},
   "outputs": [],
   "source": [
    "y_predicts=[]\n",
    "for i in range(len(dataset_names)):\n",
    "    y_predict_proba=models[i].predict_proba(X_test_processed[i])[:, 1]\n",
    "    df = pd.DataFrame(y_predict_proba, columns=['y_predict_proba'])\n",
    "    y_predicts.append(df)\n",
    "    "
   ]
  },
  {
   "cell_type": "markdown",
   "metadata": {},
   "source": [
    "## Save result"
   ]
  },
  {
   "cell_type": "code",
   "execution_count": 8,
   "metadata": {},
   "outputs": [],
   "source": [
    "for idx,dataset_name in enumerate(dataset_names):\n",
    "    df=y_predicts[idx]\n",
    "    df.to_csv(f'./Competition_data/{dataset_name}/y_predict.csv', index=False,header=True)"
   ]
  }
 ],
 "metadata": {
  "kernelspec": {
   "display_name": "Python 3",
   "language": "python",
   "name": "python3"
  },
  "language_info": {
   "codemirror_mode": {
    "name": "ipython",
    "version": 3
   },
   "file_extension": ".py",
   "mimetype": "text/x-python",
   "name": "python",
   "nbconvert_exporter": "python",
   "pygments_lexer": "ipython3",
   "version": "3.12.2"
  }
 },
 "nbformat": 4,
 "nbformat_minor": 2
}
